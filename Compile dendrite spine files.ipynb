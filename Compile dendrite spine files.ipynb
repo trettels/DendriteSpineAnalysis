{
 "cells": [
  {
   "cell_type": "markdown",
   "metadata": {},
   "source": [
    "Designed to combine all neuronstudio dendritic spine analysis output files, saved as .csv .\n",
    "It rename some important columns to make further analysis easier. Also, it adds a column for segment, region, animal, and neuron. This makes it later possible to group by animal or neuron depending on what analysis is performed. \n",
    "\n",
    "#Modified by Sean Trettel (github.com/trettels) from code by Tina Gruene (github.com/TinaGruene/spine-analysis)"
   ]
  },
  {
   "cell_type": "code",
   "execution_count": 1,
   "metadata": {},
   "outputs": [],
   "source": [
    "import pandas as pd \n",
    "import os"
   ]
  },
  {
   "cell_type": "code",
   "execution_count": 2,
   "metadata": {},
   "outputs": [],
   "source": [
    "#these functions will add animal and neuron/segment columns based on the 'segment' column (based on the filename)\n",
    "#this works if files are saved as '10_animalnumber neuronandsegmentnumber.filetype'. \n",
    "#If files are named differently these functions would have to be modified \n",
    "def get_animal(segment):\n",
    "    animal = str(segment).split('_')[2]\n",
    "    return animal\n",
    "def get_region(segment):\n",
    "    region = str(segment).split('_')[3]\n",
    "    return region[0:3]\n",
    "def get_neuron(segment):\n",
    "    region = str(segment).split('_')[3]\n",
    "    cell = str(segment).split('_')[4]\n",
    "    seg = str(segment).split('_')[5]\n",
    "    seg = str(seg).split('.')[0]\n",
    "    if(len(str(segment).split('_'))==7):\n",
    "        side = str(segment).split('_')[-1]\n",
    "        side = side[0]\n",
    "        region = region + side\n",
    "    neuron = region + '_' + cell + '_' + seg\n",
    "    return neuron\n",
    "\n",
    "column_names = {'SECTION-LENGTH' : 'section_length',\n",
    "               'HEAD-DIAMETER' :'head_diameter',\n",
    "                'NECK-DIAMETER' : 'neck_diameter'}  #can add more columns to rename"
   ]
  },
  {
   "cell_type": "code",
   "execution_count": 6,
   "metadata": {},
   "outputs": [],
   "source": [
    "def combine_files(path):\n",
    "    filenames = os.listdir(path)   #list of filenames based on designated folder\n",
    "\n",
    "    df = pd.DataFrame()            #start with an empty data frame\n",
    "    for filename in sorted(filenames):\n",
    "        try:\n",
    "            read_filename = path + filename     #path for each file\n",
    "            temp = pd.read_csv(read_filename)  #reads in txt files, delim_whitespace important\n",
    "            temp['segment'] = filename                       #adds segment column based on the filename\n",
    "            frame = [df,temp]                #concatinates df and temp, results in only one header row \n",
    "            df = pd.concat(frame)\n",
    "        \n",
    "        except UnicodeDecodeError:\n",
    "            pass\n",
    "    df['animal'] = df.segment.apply(get_animal)   #adds animal column based on segment info\n",
    "    df['neuron'] = df.segment.apply(get_neuron) #adds neuron/segment column based on segment info\n",
    "    df['region'] = df.segment.apply(get_region)\n",
    "    df.rename(columns=column_names, inplace=True) #renames a few important column names\n",
    "    return df    \n",
    "\n"
   ]
  },
  {
   "cell_type": "code",
   "execution_count": 8,
   "metadata": {},
   "outputs": [],
   "source": [
    "path_CStress = 'C:/Users/Sean/Desktop/ShanskyLab_Projects/spine-analysis-master/JordanData/DATA/CStress/'\n",
    "df_CStress = combine_files(path_CStress)\n",
    "df_CStress.to_csv('C:/Users/Sean/Desktop/ShanskyLab_Projects/spine-analysis-master/JordanData/DATA/CStress.csv')"
   ]
  },
  {
   "cell_type": "code",
   "execution_count": 12,
   "metadata": {},
   "outputs": [],
   "source": [
    "path_PStress = 'C:/Users/Sean/Desktop/ShanskyLab_Projects/spine-analysis-master/JordanData/DATA/PStress/'\n",
    "df_PStress = combine_files(path_PStress)\n",
    "df_PStress.to_csv('C:/Users/Sean/Desktop/ShanskyLab_Projects/spine-analysis-master/JordanData/DATA/PStress.csv')"
   ]
  },
  {
   "cell_type": "code",
   "execution_count": 11,
   "metadata": {},
   "outputs": [],
   "source": [
    "path_UStress = 'C:/Users/Sean/Desktop/ShanskyLab_Projects/spine-analysis-master/JordanData/DATA/UStress/'\n",
    "df_UStress = combine_files(path_UStress)\n",
    "df_UStress.to_csv('C:/Users/Sean/Desktop/ShanskyLab_Projects/spine-analysis-master/JordanData/DATA/UStress.csv')"
   ]
  },
  {
   "cell_type": "code",
   "execution_count": null,
   "metadata": {},
   "outputs": [],
   "source": []
  }
 ],
 "metadata": {
  "kernelspec": {
   "display_name": "Python 3",
   "language": "python",
   "name": "python3"
  },
  "language_info": {
   "codemirror_mode": {
    "name": "ipython",
    "version": 3
   },
   "file_extension": ".py",
   "mimetype": "text/x-python",
   "name": "python",
   "nbconvert_exporter": "python",
   "pygments_lexer": "ipython3",
   "version": "3.6.4"
  }
 },
 "nbformat": 4,
 "nbformat_minor": 2
}
